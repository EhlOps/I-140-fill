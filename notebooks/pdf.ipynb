{
 "cells": [
  {
   "cell_type": "code",
   "execution_count": null,
   "id": "f3317d49-8168-462f-90e6-432dbee8fda2",
   "metadata": {},
   "outputs": [],
   "source": [
    "%%capture\n",
    "!pip install requirements.txt"
   ]
  },
  {
   "cell_type": "code",
   "execution_count": null,
   "id": "e7bb26eb-01f7-457e-9b16-308327849694",
   "metadata": {},
   "outputs": [],
   "source": [
    "import json\n",
    "\n",
    "from PyPDFForm import PdfWrapper\n",
    "\n",
    "pdf = PdfWrapper(\"i-140.pdf\")\n",
    "\n",
    "with open('c.json', 'r') as file:\n",
    "    company_info = json.load(file)\n",
    "\n",
    "customer_info = {\n",
    "    \"prt2PetitionType[1]\": True,\n",
    "    \"Pt3Line1a_FamilyName[0]\": \"CUSTOMER_FIRST_NAME\",\n",
    "    \"Pt3Line1b_GivenName[0]\": \"CUSTOMER_MIDDLE_NAME\",\n",
    "    \"Pt3Line1c_MiddleName[0]\": \"CUSTOMER_LAST_NAME\",\n",
    "    \"Line2a_InCareofName[0]\": \"CUSTOMER_NAME\",\n",
    "    \"Line2b_StreetNumberName[0]\": \"CUSTOMER_STREET_ADDR\",\n",
    "    \"Line2c_Unit[0]\": False,\n",
    "    \"Line2c_Unit[1]\": False,\n",
    "    \"Line2c_Unit[2]\": False,\n",
    "    \"Line2c_AptSteFlrNumber[0]\": \"C_APT\",\n",
    "    \"Line2d_CityOrTown[0]\": \"CUSTOMER_CITY_OR_TOWN\",\n",
    "    \"Line2h_Province[0]\": \"CUSTOMER_PROVINCE\",\n",
    "    \"Line2i_Country[0]\": \"CUSTOMER_COUNTRY\",\n",
    "    \"Line2e_State[0]\": 0,\n",
    "    \"Line2f_ZipCode[0]\": \"C_ZIP\",\n",
    "    \"Line2g_PostalCode[0]\": \"CUSTOMER_POSTAL_CODE\",\n",
    "}\n",
    "\n",
    "# schema = pdf.schema[\"properties\"]\n",
    "# print(json.dumps(dict(list(schema.items())[50:]), indent=4))\n",
    "# print(type(schema))\n",
    "\n",
    "info = company_info | customer_info\n",
    "\n",
    "pdf = pdf.fill(info)\n",
    "\n",
    "with open(\"output.pdf\", \"wb+\") as output_file:\n",
    "    output_file.write(pdf.read())"
   ]
  }
 ],
 "metadata": {
  "kernelspec": {
   "display_name": "i-140-fill",
   "language": "python",
   "name": "i-140-fill"
  },
  "language_info": {
   "codemirror_mode": {
    "name": "ipython",
    "version": 3
   },
   "file_extension": ".py",
   "mimetype": "text/x-python",
   "name": "python",
   "nbconvert_exporter": "python",
   "pygments_lexer": "ipython3",
   "version": "3.11.2"
  }
 },
 "nbformat": 4,
 "nbformat_minor": 5
}
